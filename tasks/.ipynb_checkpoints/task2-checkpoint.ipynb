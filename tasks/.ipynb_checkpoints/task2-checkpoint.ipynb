{
 "cells": [
  {
   "cell_type": "code",
   "execution_count": 36,
   "metadata": {},
   "outputs": [],
   "source": [
    "import numpy as np\n",
    "import matplotlib.pyplot as plt\n",
    "import time"
   ]
  },
  {
   "cell_type": "code",
   "execution_count": 37,
   "metadata": {},
   "outputs": [
    {
     "name": "stdout",
     "output_type": "stream",
     "text": [
      "[ 0.78186022  0.7326422   0.32263407 ...,  0.52866549  0.06496472\n",
      "  0.49139295]\n"
     ]
    }
   ],
   "source": [
    "x= np.random.random(10000)\n",
    "arrx=np.array(x)\n",
    "print(arrx)"
   ]
  },
  {
   "cell_type": "code",
   "execution_count": 38,
   "metadata": {},
   "outputs": [
    {
     "name": "stdout",
     "output_type": "stream",
     "text": [
      "[ 0.04286887  0.48280573  0.08640094 ...,  0.20602139  0.79316441\n",
      "  0.07315857]\n"
     ]
    }
   ],
   "source": [
    "y= np.random.random(10000)\n",
    "arry=np.array(y)\n",
    "print(arry)"
   ]
  },
  {
   "cell_type": "code",
   "execution_count": 39,
   "metadata": {},
   "outputs": [
    {
     "name": "stdout",
     "output_type": "stream",
     "text": [
      "Time is 0.0005690000000000417 and Dot Product is 2484.68546463\n"
     ]
    }
   ],
   "source": [
    "start_time = time.clock()\n",
    "dotxy=np.dot(x,y)\n",
    "end_time = time.clock()\n",
    "print(\"Time is \" + str(end_time-start_time) + \" and Dot Product is \" + str(dotxy))"
   ]
  },
  {
   "cell_type": "code",
   "execution_count": 40,
   "metadata": {},
   "outputs": [
    {
     "name": "stdout",
     "output_type": "stream",
     "text": [
      "Time is 0.014022999999999897 and Dot Product is 2484.68546463\n"
     ]
    }
   ],
   "source": [
    "dot=0\n",
    "n=10000\n",
    "start_time = time.clock()\n",
    "for i in range(n):\n",
    "    dot+=x[i]*y[i]\n",
    "end_time = time.clock()\n",
    "print(\"Time is \" + str(end_time-start_time) + \" and Dot Product is \" + str(dot))"
   ]
  },
  {
   "cell_type": "code",
   "execution_count": 77,
   "metadata": {},
   "outputs": [],
   "source": [
    "# So, Numpy takes less time that loop method\n"
   ]
  },
  {
   "cell_type": "code",
   "execution_count": null,
   "metadata": {},
   "outputs": [],
   "source": []
  }
 ],
 "metadata": {
  "kernelspec": {
   "display_name": "Python 3",
   "language": "python",
   "name": "python3"
  },
  "language_info": {
   "codemirror_mode": {
    "name": "ipython",
    "version": 3
   },
   "file_extension": ".py",
   "mimetype": "text/x-python",
   "name": "python",
   "nbconvert_exporter": "python",
   "pygments_lexer": "ipython3",
   "version": "3.6.5"
  }
 },
 "nbformat": 4,
 "nbformat_minor": 2
}
